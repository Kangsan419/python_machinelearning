{
 "cells": [
  {
   "cell_type": "markdown",
   "id": "2fc7d85b",
   "metadata": {},
   "source": [
    "# 파이썬 기반의 머신러닝과 생태계 이해 "
   ]
  },
  {
   "cell_type": "markdown",
   "id": "47c01ff3",
   "metadata": {},
   "source": [
    "## 01. 머신러닝 개념"
   ]
  },
  {
   "cell_type": "markdown",
   "id": "a18072b7",
   "metadata": {},
   "source": [
    "## 02. 파이썬 머신러닝 생태계를 구성하는 주요 패키지 "
   ]
  },
  {
   "cell_type": "markdown",
   "id": "6fe6c1a4",
   "metadata": {},
   "source": [
    "## 03. numpy"
   ]
  },
  {
   "cell_type": "code",
   "execution_count": 3,
   "id": "0b3aae55",
   "metadata": {},
   "outputs": [
    {
     "name": "stdout",
     "output_type": "stream",
     "text": [
      "array1 type : <class 'numpy.ndarray'>\n",
      "array1 array 형태:  (3,)\n",
      "array2 type : <class 'numpy.ndarray'>\n",
      "array2 array 형태 : (2, 3)\n",
      "array type :  <class 'numpy.ndarray'>\n",
      "array3 array 형태 : (1, 3)\n"
     ]
    }
   ],
   "source": [
    "#넘파이 개요 \n",
    "import numpy as np \n",
    "\n",
    "#넘파이의 배열 \n",
    "array1=np.array([1,2,3])\n",
    "print('array1 type :', type(array1))\n",
    "print('array1 array 형태: ', array1.shape)\n",
    "\n",
    "array2= np.array([[1,2,3,],[2,3,4]])\n",
    "print('array2 type :', type(array2))\n",
    "print('array2 array 형태 :', array2.shape)\n",
    "\n",
    "array3 = np.array([[1,2,3]])\n",
    "print('array type : ', type(array3))\n",
    "print('array3 array 형태 :', array3.shape)"
   ]
  },
  {
   "cell_type": "code",
   "execution_count": 4,
   "id": "d58919ec",
   "metadata": {},
   "outputs": [
    {
     "name": "stdout",
     "output_type": "stream",
     "text": [
      "array1: 1차원, array2 :2차원, array3: 2차원\n"
     ]
    }
   ],
   "source": [
    "#array ndim을 이용해 확인 \n",
    "print('array1: {:0}차원, array2 :{:1}차원, array3:{:2}차원'.format(array1.ndim,array2.ndim,array3.ndim))"
   ]
  },
  {
   "cell_type": "code",
   "execution_count": 22,
   "id": "3eae1645",
   "metadata": {},
   "outputs": [
    {
     "name": "stdout",
     "output_type": "stream",
     "text": [
      "<class 'list'> \n",
      "\n",
      "<class 'numpy.ndarray'>\n",
      "[1 2 3] int64 \n",
      "\n",
      "['1' '2' 'test'] <U21 \n",
      "\n",
      "[1. 2. 3.] float64 \n",
      "\n"
     ]
    }
   ],
   "source": [
    "#ndarray의 데이터타입\n",
    "list1=[1,2,3]\n",
    "print(type(list1),'\\n')\n",
    "\n",
    "array1=np.array(list1)\n",
    "print(type(array1))\n",
    "print(array1,array1.dtype,'\\n')\n",
    "\n",
    "#다른 데이터 유형이 섞여 있는 리스트를 ndarray로 변경하면 데이터 크기가 더 큰 데이터 타입으로 형 변환을 일괄 적용\n",
    "list2=[1,2,'test']\n",
    "array2=np.array(list2)\n",
    "print(array2,array2.dtype,'\\n')\n",
    "\n",
    "list3=[1,2,3.0]\n",
    "array3=np.array(list3)\n",
    "print(array3,array3.dtype,'\\n')"
   ]
  },
  {
   "cell_type": "code",
   "execution_count": 21,
   "id": "1706e4d3",
   "metadata": {},
   "outputs": [
    {
     "name": "stdout",
     "output_type": "stream",
     "text": [
      "[1. 2. 3.] float64 \n",
      "\n",
      "[1 2 3] int32 \n",
      "\n",
      "[1 2 3] int32 \n",
      "\n"
     ]
    }
   ],
   "source": [
    "#stype()매서드를 이용한 ndarray 데이터 값 변경 \n",
    "array_int=np.array([1,2,3])\n",
    "array_float=array_int.astype('float64')\n",
    "print(array_float,array_float.dtype,'\\n')\n",
    "\n",
    "array_int1=array_float.astype('int32')\n",
    "print(array_int1,array_int1.dtype,'\\n')\n",
    "\n",
    "array_float1=np.array([1.1,2.1,3.1])\n",
    "array_int2=array_float1.astype('int32')\n",
    "print(array_int2, array_int2.dtype,'\\n')"
   ]
  },
  {
   "cell_type": "code",
   "execution_count": 20,
   "id": "2509ed01",
   "metadata": {},
   "outputs": [
    {
     "name": "stdout",
     "output_type": "stream",
     "text": [
      "[0 1 2 3 4 5 6 7 8 9]\n",
      "int64 (10,) \n",
      "\n",
      "[[0 0]\n",
      " [0 0]\n",
      " [0 0]]\n",
      "int32 (3, 2) \n",
      "\n",
      "[[1. 1.]\n",
      " [1. 1.]\n",
      " [1. 1.]]\n",
      "float64 (3, 2) \n",
      "\n"
     ]
    }
   ],
   "source": [
    "#ndarray 편리하게 생성하기 - arange, zeros, ones \n",
    "\n",
    "#arange - 0부터 인자 -1 값까지 순차적으로 변환\n",
    "sequence_array=np.arange(10)\n",
    "print(sequence_array)\n",
    "print(sequence_array.dtype, sequence_array.shape,'\\n')\n",
    "\n",
    "#zeros() and ones() - 모든 값은 0혹은 1로 채운 shape을 가진 ndarray 반환\n",
    "zero_array=np.zeros((3,2), dtype=('int32'))\n",
    "print(zero_array)\n",
    "print(zero_array.dtype,zero_array.shape,'\\n')\n",
    "\n",
    "one_array=np.ones((3,2))\n",
    "print(one_array)\n",
    "print(one_array.dtype,one_array.shape,'\\n')"
   ]
  },
  {
   "cell_type": "code",
   "execution_count": 24,
   "id": "2786ae0e",
   "metadata": {},
   "outputs": [
    {
     "name": "stdout",
     "output_type": "stream",
     "text": [
      "array1:\n",
      " [0 1 2 3 4 5 6 7 8 9]\n",
      "array2:\n",
      " [[0 1 2 3 4]\n",
      " [5 6 7 8 9]]\n",
      "array3 :\n",
      " [[0 1]\n",
      " [2 3]\n",
      " [4 5]\n",
      " [6 7]\n",
      " [8 9]]\n"
     ]
    },
    {
     "ename": "ValueError",
     "evalue": "cannot reshape array of size 10 into shape (4,3)",
     "output_type": "error",
     "traceback": [
      "\u001b[0;31m---------------------------------------------------------------------------\u001b[0m",
      "\u001b[0;31mValueError\u001b[0m                                Traceback (most recent call last)",
      "\u001b[0;32m/var/folders/0t/xgly_s_n1kdbpwm27d0kbl3c0000gn/T/ipykernel_62256/2169149995.py\u001b[0m in \u001b[0;36m<module>\u001b[0;34m\u001b[0m\n\u001b[1;32m     11\u001b[0m \u001b[0;34m\u001b[0m\u001b[0m\n\u001b[1;32m     12\u001b[0m \u001b[0;31m#지정된 사이즈로 변경 불가능할 때 error\u001b[0m\u001b[0;34m\u001b[0m\u001b[0;34m\u001b[0m\u001b[0m\n\u001b[0;32m---> 13\u001b[0;31m \u001b[0marray1\u001b[0m\u001b[0;34m.\u001b[0m\u001b[0mreshape\u001b[0m\u001b[0;34m(\u001b[0m\u001b[0;36m4\u001b[0m\u001b[0;34m,\u001b[0m\u001b[0;36m3\u001b[0m\u001b[0;34m)\u001b[0m\u001b[0;34m\u001b[0m\u001b[0;34m\u001b[0m\u001b[0m\n\u001b[0m",
      "\u001b[0;31mValueError\u001b[0m: cannot reshape array of size 10 into shape (4,3)"
     ]
    }
   ],
   "source": [
    "#ndarray의 차원과 크기를 변경하는 reshape()\n",
    "\n",
    "array1=np.arange(10)\n",
    "print('array1:\\n',array1)\n",
    "\n",
    "array2=array1.reshape(2,5)\n",
    "print('array2:\\n',array2)\n",
    "\n",
    "array3 = array1.reshape(5,2)\n",
    "print('array3 :\\n',array3)\n",
    "\n",
    "#지정된 사이즈로 변경 불가능할 때 error\n",
    "array1.reshape(4,3)"
   ]
  },
  {
   "cell_type": "code",
   "execution_count": 26,
   "id": "7dac1c27",
   "metadata": {},
   "outputs": [
    {
     "name": "stdout",
     "output_type": "stream",
     "text": [
      "[0 1 2 3 4 5 6 7 8 9]\n",
      "array2 shape: (2, 5)\n",
      "array3 shape: (5, 2)\n"
     ]
    }
   ],
   "source": [
    "#reshape 효율적으로 사용하기 - 인자를 -1로 적용하기 \n",
    "# >> 원래 ndarray와 호환되는 새로운 shape로 변환\n",
    "array1=np.arange(10)\n",
    "print(array1)\n",
    "array2=array1.reshape(-1,5)\n",
    "print('array2 shape:',array2.shape)\n",
    "array3=array1.reshape(5,-1)\n",
    "print('array3 shape:',array3.shape)"
   ]
  },
  {
   "cell_type": "code",
   "execution_count": null,
   "id": "cdd6f3ac",
   "metadata": {},
   "outputs": [],
   "source": []
  }
 ],
 "metadata": {
  "kernelspec": {
   "display_name": "Python 3 (ipykernel)",
   "language": "python",
   "name": "python3"
  },
  "language_info": {
   "codemirror_mode": {
    "name": "ipython",
    "version": 3
   },
   "file_extension": ".py",
   "mimetype": "text/x-python",
   "name": "python",
   "nbconvert_exporter": "python",
   "pygments_lexer": "ipython3",
   "version": "3.9.7"
  }
 },
 "nbformat": 4,
 "nbformat_minor": 5
}
